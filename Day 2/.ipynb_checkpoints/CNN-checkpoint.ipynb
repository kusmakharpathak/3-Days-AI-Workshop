{
 "cells": [
  {
   "cell_type": "markdown",
   "metadata": {},
   "source": [
    "# Convolution Neural Network (CNN)"
   ]
  },
  {
   "cell_type": "code",
   "execution_count": 1,
   "metadata": {},
   "outputs": [],
   "source": [
    "from tensorflow.keras.models import Sequential, load_model\n",
    "from tensorflow.keras.layers import Dense, Conv2D, Flatten, MaxPool2D, Dropout\n",
    "from tensorflow.keras import optimizers"
   ]
  },
  {
   "cell_type": "code",
   "execution_count": 2,
   "metadata": {},
   "outputs": [],
   "source": [
    "model = Sequential()\n",
    "model.add(Conv2D(filters=32, kernel_size=(2, 2), input_shape = (28, 28, 1), activation = 'relu'))\n",
    "model.add(Conv2D(filters=64, kernel_size=(2, 2), activation = 'relu'))\n",
    "model.add(Flatten())\n",
    "model.add(Dense(128, activation = 'relu'))\n",
    "model.add(Dense(64, activation = 'relu'))\n",
    "model.add(Dense(10, activation = 'softmax'))"
   ]
  },
  {
   "cell_type": "code",
   "execution_count": 3,
   "metadata": {},
   "outputs": [
    {
     "name": "stdout",
     "output_type": "stream",
     "text": [
      "Model: \"sequential\"\n",
      "_________________________________________________________________\n",
      "Layer (type)                 Output Shape              Param #   \n",
      "=================================================================\n",
      "conv2d (Conv2D)              (None, 27, 27, 32)        160       \n",
      "_________________________________________________________________\n",
      "conv2d_1 (Conv2D)            (None, 26, 26, 64)        8256      \n",
      "_________________________________________________________________\n",
      "flatten (Flatten)            (None, 43264)             0         \n",
      "_________________________________________________________________\n",
      "dense (Dense)                (None, 128)               5537920   \n",
      "_________________________________________________________________\n",
      "dense_1 (Dense)              (None, 64)                8256      \n",
      "_________________________________________________________________\n",
      "dense_2 (Dense)              (None, 10)                650       \n",
      "=================================================================\n",
      "Total params: 5,555,242\n",
      "Trainable params: 5,555,242\n",
      "Non-trainable params: 0\n",
      "_________________________________________________________________\n"
     ]
    }
   ],
   "source": [
    "model.summary()"
   ]
  },
  {
   "cell_type": "code",
   "execution_count": 4,
   "metadata": {},
   "outputs": [],
   "source": [
    "model.compile(loss = 'categorical_crossentropy', optimizer='adam', metrics = ['accuracy'])"
   ]
  },
  {
   "cell_type": "code",
   "execution_count": 5,
   "metadata": {},
   "outputs": [],
   "source": [
    "from tensorflow.keras.preprocessing.image import ImageDataGenerator"
   ]
  },
  {
   "cell_type": "code",
   "execution_count": 6,
   "metadata": {},
   "outputs": [],
   "source": [
    "img_gen = ImageDataGenerator(rescale=1/255)"
   ]
  },
  {
   "cell_type": "code",
   "execution_count": 7,
   "metadata": {},
   "outputs": [
    {
     "name": "stdout",
     "output_type": "stream",
     "text": [
      "Found 37940 images belonging to 10 classes.\n"
     ]
    }
   ],
   "source": [
    "train_img_gen = img_gen.flow_from_directory('data/mnist_data/mnist_data/trainingSet/', target_size=(28, 28),\n",
    "                                            batch_size=16, class_mode='categorical', color_mode= 'grayscale')"
   ]
  },
  {
   "cell_type": "code",
   "execution_count": 8,
   "metadata": {},
   "outputs": [
    {
     "name": "stdout",
     "output_type": "stream",
     "text": [
      "Found 4060 images belonging to 10 classes.\n"
     ]
    }
   ],
   "source": [
    "validate_img_gen = img_gen.flow_from_directory('data/mnist_data/mnist_data/validatingSet/', target_size=(28, 28),\n",
    "                                               batch_size=16, class_mode='categorical', color_mode= 'grayscale')"
   ]
  },
  {
   "cell_type": "code",
   "execution_count": 9,
   "metadata": {},
   "outputs": [
    {
     "data": {
      "text/plain": [
       "{'0': 0,\n",
       " '1': 1,\n",
       " '2': 2,\n",
       " '3': 3,\n",
       " '4': 4,\n",
       " '5': 5,\n",
       " '6': 6,\n",
       " '7': 7,\n",
       " '8': 8,\n",
       " '9': 9}"
      ]
     },
     "execution_count": 9,
     "metadata": {},
     "output_type": "execute_result"
    }
   ],
   "source": [
    "train_img_gen.class_indices"
   ]
  },
  {
   "cell_type": "code",
   "execution_count": 10,
   "metadata": {},
   "outputs": [
    {
     "name": "stdout",
     "output_type": "stream",
     "text": [
      "100/100 [==============================] - 5s 51ms/step - loss: 0.7076 - accuracy: 0.7756 - val_loss: 0.6006 - val_accuracy: 0.8281\n"
     ]
    }
   ],
   "source": [
    "result = model.fit_generator(train_img_gen, validation_data= validate_img_gen, validation_steps= 12,\n",
    "                             epochs= 1, steps_per_epoch=100)"
   ]
  },
  {
   "cell_type": "code",
   "execution_count": 15,
   "metadata": {},
   "outputs": [
    {
     "name": "stdout",
     "output_type": "stream",
     "text": [
      "Epoch 1/4\n",
      "100/100 [==============================] - 5s 49ms/step - loss: 0.0551 - accuracy: 0.9831 - val_loss: 0.0995 - val_accuracy: 0.9583\n",
      "Epoch 2/4\n",
      "100/100 [==============================] - 5s 49ms/step - loss: 0.0490 - accuracy: 0.9869 - val_loss: 0.0334 - val_accuracy: 0.9896\n",
      "Epoch 3/4\n",
      "100/100 [==============================] - 5s 49ms/step - loss: 0.0462 - accuracy: 0.9837 - val_loss: 0.0292 - val_accuracy: 0.9896\n",
      "Epoch 4/4\n",
      "100/100 [==============================] - 5s 49ms/step - loss: 0.0717 - accuracy: 0.9806 - val_loss: 0.0275 - val_accuracy: 0.9948\n"
     ]
    }
   ],
   "source": [
    "result = model.fit_generator(train_img_gen, validation_data= validate_img_gen, validation_steps= 12,\n",
    "                             epochs= 4, steps_per_epoch=100)"
   ]
  },
  {
   "cell_type": "code",
   "execution_count": null,
   "metadata": {},
   "outputs": [],
   "source": []
  },
  {
   "cell_type": "code",
   "execution_count": 21,
   "metadata": {},
   "outputs": [],
   "source": [
    "from tensorflow.keras.models import Sequential, load_model\n",
    "model_json = model.to_json()\n",
    "\n",
    "with open(\"mnist.json\", \"w\") as json_file:\n",
    "    json_file.write(model_json)\n",
    "    \n",
    "model.save_weights(\"mnist.h5\")"
   ]
  },
  {
   "cell_type": "code",
   "execution_count": 17,
   "metadata": {},
   "outputs": [
    {
     "name": "stdout",
     "output_type": "stream",
     "text": [
      "(28, 28)\n",
      "(1, 28, 28, 1)\n"
     ]
    }
   ],
   "source": [
    "import cv2\n",
    "import numpy as np\n",
    "a = cv2.imread('data/mnist_data/mnist_data/testSet/img_66.jpg', 0)\n",
    "a = cv2.resize(a,(28,28))\n",
    "print(a.shape)\n",
    "a = np.expand_dims(a, axis = 0)\n",
    "test_img = np.expand_dims(a, axis = 0)\n",
    "test_img = test_img.transpose(1,2,3,0)/255\n",
    "print(test_img.shape)"
   ]
  },
  {
   "cell_type": "code",
   "execution_count": 18,
   "metadata": {},
   "outputs": [
    {
     "data": {
      "text/plain": [
       "array([0])"
      ]
     },
     "execution_count": 18,
     "metadata": {},
     "output_type": "execute_result"
    }
   ],
   "source": [
    "a = model.predict_classes(test_img)\n",
    "a"
   ]
  },
  {
   "cell_type": "markdown",
   "metadata": {},
   "source": [
    "# Task\n",
    "* Look after YOLO\n",
    "* Train a MNIST Model with highest accuracy using diffetent optimizers and loss fxn, layers\n",
    "* Look after transfer learning\n",
    "* Install PyCharm"
   ]
  },
  {
   "cell_type": "code",
   "execution_count": null,
   "metadata": {},
   "outputs": [],
   "source": []
  }
 ],
 "metadata": {
  "kernelspec": {
   "display_name": "Python 3",
   "language": "python",
   "name": "python3"
  },
  "language_info": {
   "codemirror_mode": {
    "name": "ipython",
    "version": 3
   },
   "file_extension": ".py",
   "mimetype": "text/x-python",
   "name": "python",
   "nbconvert_exporter": "python",
   "pygments_lexer": "ipython3",
   "version": "3.7.4"
  }
 },
 "nbformat": 4,
 "nbformat_minor": 2
}
