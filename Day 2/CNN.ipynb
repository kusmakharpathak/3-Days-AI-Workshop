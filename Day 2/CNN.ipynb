{
 "cells": [
  {
   "cell_type": "markdown",
   "metadata": {},
   "source": [
    "# Convolution Neural Network (CNN)"
   ]
  },
  {
   "cell_type": "code",
   "execution_count": 1,
   "metadata": {},
   "outputs": [],
   "source": [
    "from tensorflow.keras.models import Sequential, load_model\n",
    "from tensorflow.keras.layers import Dense, Conv2D, Flatten, MaxPool2D, Dropout\n",
    "from tensorflow.keras import optimizers"
   ]
  },
  {
   "cell_type": "code",
   "execution_count": 2,
   "metadata": {},
   "outputs": [],
   "source": [
    "model = Sequential()\n",
    "model.add(Conv2D(filters=32, kernel_size=(2, 2), input_shape = (28, 28, 1), activation = 'relu'))\n",
    "model.add(Conv2D(filters=64, kernel_size=(2, 2), activation = 'relu'))\n",
    "model.add(Flatten())\n",
    "model.add(Dense(128, activation = 'relu'))\n",
    "model.add(Dense(64, activation = 'relu'))\n",
    "model.add(Dense(10, activation = 'softmax'))"
   ]
  },
  {
   "cell_type": "code",
   "execution_count": 3,
   "metadata": {},
   "outputs": [
    {
     "name": "stdout",
     "output_type": "stream",
     "text": [
      "Model: \"sequential\"\n",
      "_________________________________________________________________\n",
      "Layer (type)                 Output Shape              Param #   \n",
      "=================================================================\n",
      "conv2d (Conv2D)              (None, 27, 27, 32)        160       \n",
      "_________________________________________________________________\n",
      "conv2d_1 (Conv2D)            (None, 26, 26, 64)        8256      \n",
      "_________________________________________________________________\n",
      "flatten (Flatten)            (None, 43264)             0         \n",
      "_________________________________________________________________\n",
      "dense (Dense)                (None, 128)               5537920   \n",
      "_________________________________________________________________\n",
      "dense_1 (Dense)              (None, 64)                8256      \n",
      "_________________________________________________________________\n",
      "dense_2 (Dense)              (None, 10)                650       \n",
      "=================================================================\n",
      "Total params: 5,555,242\n",
      "Trainable params: 5,555,242\n",
      "Non-trainable params: 0\n",
      "_________________________________________________________________\n"
     ]
    }
   ],
   "source": [
    "model.summary()"
   ]
  },
  {
   "cell_type": "code",
   "execution_count": 4,
   "metadata": {},
   "outputs": [],
   "source": [
    "model.compile(loss = 'categorical_crossentropy', optimizer='adam', metrics = ['accuracy'])"
   ]
  },
  {
   "cell_type": "code",
   "execution_count": 5,
   "metadata": {},
   "outputs": [],
   "source": [
    "from tensorflow.keras.preprocessing.image import ImageDataGenerator"
   ]
  },
  {
   "cell_type": "code",
   "execution_count": 6,
   "metadata": {},
   "outputs": [],
   "source": [
    "img_gen = ImageDataGenerator(rescale=1/255)"
   ]
  },
  {
   "cell_type": "code",
   "execution_count": 7,
   "metadata": {},
   "outputs": [
    {
     "name": "stdout",
     "output_type": "stream",
     "text": [
      "Found 37940 images belonging to 10 classes.\n"
     ]
    }
   ],
   "source": [
    "train_img_gen = img_gen.flow_from_directory('data/mnist_data/mnist_data/trainingSet/', target_size=(28, 28),\n",
    "                                            batch_size=16, class_mode='categorical', color_mode= 'grayscale')"
   ]
  },
  {
   "cell_type": "code",
   "execution_count": 8,
   "metadata": {},
   "outputs": [
    {
     "name": "stdout",
     "output_type": "stream",
     "text": [
      "Found 4060 images belonging to 10 classes.\n"
     ]
    }
   ],
   "source": [
    "validate_img_gen = img_gen.flow_from_directory('data/mnist_data/mnist_data/validatingSet/', target_size=(28, 28),\n",
    "                                               batch_size=16, class_mode='categorical', color_mode= 'grayscale')"
   ]
  },
  {
   "cell_type": "code",
   "execution_count": 9,
   "metadata": {},
   "outputs": [
    {
     "data": {
      "text/plain": [
       "{'0': 0,\n",
       " '1': 1,\n",
       " '2': 2,\n",
       " '3': 3,\n",
       " '4': 4,\n",
       " '5': 5,\n",
       " '6': 6,\n",
       " '7': 7,\n",
       " '8': 8,\n",
       " '9': 9}"
      ]
     },
     "execution_count": 9,
     "metadata": {},
     "output_type": "execute_result"
    }
   ],
   "source": [
    "train_img_gen.class_indices"
   ]
  },
  {
   "cell_type": "code",
   "execution_count": 10,
   "metadata": {},
   "outputs": [
    {
     "name": "stdout",
     "output_type": "stream",
     "text": [
      "100/100 [==============================] - 5s 51ms/step - loss: 0.7076 - accuracy: 0.7756 - val_loss: 0.6006 - val_accuracy: 0.8281\n"
     ]
    }
   ],
   "source": [
    "result = model.fit_generator(train_img_gen, validation_data= validate_img_gen, validation_steps= 12,\n",
    "                             epochs= 1, steps_per_epoch=100)"
   ]
  },
  {
   "cell_type": "code",
   "execution_count": 22,
   "metadata": {},
   "outputs": [
    {
     "name": "stdout",
     "output_type": "stream",
     "text": [
      "Epoch 1/150\n",
      "100/100 [==============================] - 5s 50ms/step - loss: 0.0498 - accuracy: 0.9862 - val_loss: 0.0211 - val_accuracy: 1.0000\n",
      "Epoch 2/150\n",
      "100/100 [==============================] - 5s 49ms/step - loss: 0.0494 - accuracy: 0.9856 - val_loss: 0.0325 - val_accuracy: 0.9844\n",
      "Epoch 3/150\n",
      "100/100 [==============================] - 5s 50ms/step - loss: 0.0429 - accuracy: 0.9875 - val_loss: 0.0385 - val_accuracy: 0.9896\n",
      "Epoch 4/150\n",
      "100/100 [==============================] - 5s 49ms/step - loss: 0.0487 - accuracy: 0.9856 - val_loss: 0.0473 - val_accuracy: 0.9896\n",
      "Epoch 5/150\n",
      "100/100 [==============================] - 5s 50ms/step - loss: 0.0328 - accuracy: 0.9869 - val_loss: 0.0656 - val_accuracy: 0.9792\n",
      "Epoch 6/150\n",
      "100/100 [==============================] - 5s 49ms/step - loss: 0.0710 - accuracy: 0.9812 - val_loss: 0.0625 - val_accuracy: 0.9740\n",
      "Epoch 7/150\n",
      "100/100 [==============================] - 5s 50ms/step - loss: 0.0533 - accuracy: 0.9800 - val_loss: 0.0492 - val_accuracy: 0.9844\n",
      "Epoch 8/150\n",
      "100/100 [==============================] - 5s 50ms/step - loss: 0.0551 - accuracy: 0.9806 - val_loss: 0.0650 - val_accuracy: 0.9792\n",
      "Epoch 9/150\n",
      "100/100 [==============================] - 5s 50ms/step - loss: 0.0507 - accuracy: 0.9862 - val_loss: 0.0629 - val_accuracy: 0.9688\n",
      "Epoch 10/150\n",
      "100/100 [==============================] - 5s 50ms/step - loss: 0.0432 - accuracy: 0.9881 - val_loss: 0.0286 - val_accuracy: 0.9896\n",
      "Epoch 11/150\n",
      "100/100 [==============================] - 5s 50ms/step - loss: 0.0729 - accuracy: 0.9800 - val_loss: 0.0340 - val_accuracy: 0.9948\n",
      "Epoch 12/150\n",
      "100/100 [==============================] - 5s 49ms/step - loss: 0.0462 - accuracy: 0.9831 - val_loss: 0.0723 - val_accuracy: 0.9844\n",
      "Epoch 13/150\n",
      "100/100 [==============================] - 5s 50ms/step - loss: 0.0451 - accuracy: 0.9862 - val_loss: 0.0181 - val_accuracy: 1.0000\n",
      "Epoch 14/150\n",
      "100/100 [==============================] - 5s 49ms/step - loss: 0.0665 - accuracy: 0.9787 - val_loss: 0.0350 - val_accuracy: 0.9844\n",
      "Epoch 15/150\n",
      "100/100 [==============================] - 5s 50ms/step - loss: 0.0415 - accuracy: 0.9869 - val_loss: 0.0925 - val_accuracy: 0.9792\n",
      "Epoch 16/150\n",
      "100/100 [==============================] - 5s 50ms/step - loss: 0.0734 - accuracy: 0.9769 - val_loss: 0.0225 - val_accuracy: 1.0000\n",
      "Epoch 17/150\n",
      "100/100 [==============================] - 5s 50ms/step - loss: 0.0334 - accuracy: 0.9906 - val_loss: 0.0560 - val_accuracy: 0.9844\n",
      "Epoch 18/150\n",
      "100/100 [==============================] - 5s 49ms/step - loss: 0.0742 - accuracy: 0.9798 - val_loss: 0.0808 - val_accuracy: 0.9740\n",
      "Epoch 19/150\n",
      "100/100 [==============================] - 5s 51ms/step - loss: 0.0461 - accuracy: 0.9894 - val_loss: 0.0570 - val_accuracy: 0.9792\n",
      "Epoch 20/150\n",
      "100/100 [==============================] - 5s 50ms/step - loss: 0.0593 - accuracy: 0.9825 - val_loss: 0.0576 - val_accuracy: 0.9844\n",
      "Epoch 21/150\n",
      "100/100 [==============================] - 5s 50ms/step - loss: 0.0568 - accuracy: 0.9794 - val_loss: 0.0811 - val_accuracy: 0.9688\n",
      "Epoch 22/150\n",
      "100/100 [==============================] - 5s 49ms/step - loss: 0.0641 - accuracy: 0.9794 - val_loss: 0.0500 - val_accuracy: 0.9896\n",
      "Epoch 23/150\n",
      "100/100 [==============================] - 5s 50ms/step - loss: 0.0474 - accuracy: 0.9850 - val_loss: 0.0347 - val_accuracy: 0.9844\n",
      "Epoch 24/150\n",
      "100/100 [==============================] - 5s 50ms/step - loss: 0.0446 - accuracy: 0.9850 - val_loss: 0.0300 - val_accuracy: 0.9948\n",
      "Epoch 25/150\n",
      "100/100 [==============================] - 5s 50ms/step - loss: 0.0175 - accuracy: 0.9950 - val_loss: 0.0478 - val_accuracy: 0.9844\n",
      "Epoch 26/150\n",
      "100/100 [==============================] - 5s 50ms/step - loss: 0.0184 - accuracy: 0.9944 - val_loss: 0.0254 - val_accuracy: 0.9896\n",
      "Epoch 27/150\n",
      "100/100 [==============================] - 5s 50ms/step - loss: 0.0215 - accuracy: 0.9912 - val_loss: 0.0356 - val_accuracy: 0.9896\n",
      "Epoch 28/150\n",
      "100/100 [==============================] - 5s 50ms/step - loss: 0.0110 - accuracy: 0.9950 - val_loss: 0.0621 - val_accuracy: 0.9844\n",
      "Epoch 29/150\n",
      "100/100 [==============================] - 5s 50ms/step - loss: 0.0190 - accuracy: 0.9937 - val_loss: 0.0417 - val_accuracy: 0.9896\n",
      "Epoch 30/150\n",
      "100/100 [==============================] - 5s 50ms/step - loss: 0.0211 - accuracy: 0.9937 - val_loss: 0.0311 - val_accuracy: 0.9844\n",
      "Epoch 31/150\n",
      "100/100 [==============================] - 5s 50ms/step - loss: 0.0189 - accuracy: 0.9956 - val_loss: 0.0182 - val_accuracy: 0.9948\n",
      "Epoch 32/150\n",
      "100/100 [==============================] - 5s 50ms/step - loss: 0.0216 - accuracy: 0.9925 - val_loss: 0.0416 - val_accuracy: 0.9844\n",
      "Epoch 33/150\n",
      "100/100 [==============================] - 5s 50ms/step - loss: 0.0242 - accuracy: 0.9912 - val_loss: 0.0231 - val_accuracy: 0.9948\n",
      "Epoch 34/150\n",
      "100/100 [==============================] - 5s 50ms/step - loss: 0.0128 - accuracy: 0.9937 - val_loss: 0.1094 - val_accuracy: 0.9792\n",
      "Epoch 35/150\n",
      "100/100 [==============================] - 5s 50ms/step - loss: 0.0219 - accuracy: 0.9956 - val_loss: 0.0587 - val_accuracy: 0.9792\n",
      "Epoch 36/150\n",
      "100/100 [==============================] - 5s 49ms/step - loss: 0.0300 - accuracy: 0.9875 - val_loss: 0.0498 - val_accuracy: 0.9948\n",
      "Epoch 37/150\n",
      "100/100 [==============================] - 5s 49ms/step - loss: 0.0297 - accuracy: 0.9906 - val_loss: 0.1089 - val_accuracy: 0.9740\n",
      "Epoch 38/150\n",
      "100/100 [==============================] - 5s 49ms/step - loss: 0.0295 - accuracy: 0.9894 - val_loss: 0.0275 - val_accuracy: 0.9896\n",
      "Epoch 39/150\n",
      "100/100 [==============================] - 5s 50ms/step - loss: 0.0173 - accuracy: 0.9950 - val_loss: 0.1164 - val_accuracy: 0.9740\n",
      "Epoch 40/150\n",
      "100/100 [==============================] - 5s 49ms/step - loss: 0.0391 - accuracy: 0.9869 - val_loss: 0.0352 - val_accuracy: 0.9896\n",
      "Epoch 41/150\n",
      "100/100 [==============================] - 5s 49ms/step - loss: 0.0220 - accuracy: 0.9912 - val_loss: 0.1116 - val_accuracy: 0.9740\n",
      "Epoch 42/150\n",
      "100/100 [==============================] - 5s 50ms/step - loss: 0.0209 - accuracy: 0.9925 - val_loss: 0.0568 - val_accuracy: 0.9844\n",
      "Epoch 43/150\n",
      "100/100 [==============================] - 5s 49ms/step - loss: 0.0207 - accuracy: 0.9944 - val_loss: 0.0750 - val_accuracy: 0.9688\n",
      "Epoch 44/150\n",
      "100/100 [==============================] - 5s 50ms/step - loss: 0.0222 - accuracy: 0.9925 - val_loss: 0.0981 - val_accuracy: 0.9740\n",
      "Epoch 45/150\n",
      "100/100 [==============================] - 5s 49ms/step - loss: 0.0290 - accuracy: 0.9900 - val_loss: 0.1794 - val_accuracy: 0.9688\n",
      "Epoch 46/150\n",
      "100/100 [==============================] - 5s 54ms/step - loss: 0.0322 - accuracy: 0.9894 - val_loss: 0.0269 - val_accuracy: 0.9948\n",
      "Epoch 47/150\n",
      "100/100 [==============================] - 5s 50ms/step - loss: 0.0289 - accuracy: 0.9893 - val_loss: 0.0755 - val_accuracy: 0.9688\n",
      "Epoch 48/150\n",
      "100/100 [==============================] - 5s 52ms/step - loss: 0.0294 - accuracy: 0.9912 - val_loss: 0.0351 - val_accuracy: 0.9844\n",
      "Epoch 49/150\n",
      "100/100 [==============================] - 5s 51ms/step - loss: 0.0190 - accuracy: 0.9956 - val_loss: 0.0487 - val_accuracy: 0.9844\n",
      "Epoch 50/150\n",
      "100/100 [==============================] - 5s 50ms/step - loss: 0.0131 - accuracy: 0.9944 - val_loss: 0.0207 - val_accuracy: 0.9896\n",
      "Epoch 51/150\n",
      "100/100 [==============================] - 5s 50ms/step - loss: 0.0125 - accuracy: 0.9956 - val_loss: 0.0355 - val_accuracy: 0.9948\n",
      "Epoch 52/150\n",
      "100/100 [==============================] - 5s 51ms/step - loss: 0.0148 - accuracy: 0.9956 - val_loss: 0.0441 - val_accuracy: 0.9792\n",
      "Epoch 53/150\n",
      "100/100 [==============================] - 5s 54ms/step - loss: 0.0092 - accuracy: 0.9956 - val_loss: 0.0239 - val_accuracy: 0.9896\n",
      "Epoch 54/150\n",
      "100/100 [==============================] - 5s 51ms/step - loss: 0.0353 - accuracy: 0.9887 - val_loss: 0.1022 - val_accuracy: 0.9688\n",
      "Epoch 55/150\n",
      "100/100 [==============================] - 5s 50ms/step - loss: 0.0107 - accuracy: 0.9956 - val_loss: 0.0347 - val_accuracy: 0.9844\n",
      "Epoch 56/150\n",
      "100/100 [==============================] - 5s 50ms/step - loss: 0.0112 - accuracy: 0.9950 - val_loss: 0.0293 - val_accuracy: 0.9844\n",
      "Epoch 57/150\n"
     ]
    },
    {
     "name": "stdout",
     "output_type": "stream",
     "text": [
      "100/100 [==============================] - 5s 49ms/step - loss: 0.0261 - accuracy: 0.9925 - val_loss: 0.0697 - val_accuracy: 0.9844\n",
      "Epoch 58/150\n",
      "100/100 [==============================] - 5s 49ms/step - loss: 0.0155 - accuracy: 0.9956 - val_loss: 0.0320 - val_accuracy: 0.9896\n",
      "Epoch 59/150\n",
      "100/100 [==============================] - 5s 48ms/step - loss: 0.0106 - accuracy: 0.9981 - val_loss: 0.0432 - val_accuracy: 0.9844\n",
      "Epoch 60/150\n",
      "100/100 [==============================] - 5s 49ms/step - loss: 0.0241 - accuracy: 0.9925 - val_loss: 0.1260 - val_accuracy: 0.9479\n",
      "Epoch 61/150\n",
      "100/100 [==============================] - 5s 49ms/step - loss: 0.0223 - accuracy: 0.9944 - val_loss: 0.0336 - val_accuracy: 0.9896\n",
      "Epoch 62/150\n",
      "100/100 [==============================] - 5s 49ms/step - loss: 0.0182 - accuracy: 0.9931 - val_loss: 0.0609 - val_accuracy: 0.9844\n",
      "Epoch 63/150\n",
      "100/100 [==============================] - 5s 49ms/step - loss: 0.0119 - accuracy: 0.9969 - val_loss: 0.0593 - val_accuracy: 0.9688\n",
      "Epoch 64/150\n",
      "100/100 [==============================] - 5s 49ms/step - loss: 0.0181 - accuracy: 0.9937 - val_loss: 0.0298 - val_accuracy: 0.9948\n",
      "Epoch 65/150\n",
      "100/100 [==============================] - 5s 49ms/step - loss: 0.0141 - accuracy: 0.9975 - val_loss: 0.0343 - val_accuracy: 0.9896\n",
      "Epoch 66/150\n",
      "100/100 [==============================] - 5s 49ms/step - loss: 0.0130 - accuracy: 0.9956 - val_loss: 0.0461 - val_accuracy: 0.9844\n",
      "Epoch 67/150\n",
      "100/100 [==============================] - 5s 49ms/step - loss: 0.0218 - accuracy: 0.9956 - val_loss: 0.0266 - val_accuracy: 0.9896\n",
      "Epoch 68/150\n",
      "100/100 [==============================] - 5s 49ms/step - loss: 0.0120 - accuracy: 0.9950 - val_loss: 0.0418 - val_accuracy: 0.9896\n",
      "Epoch 69/150\n",
      "100/100 [==============================] - 5s 49ms/step - loss: 0.0316 - accuracy: 0.9925 - val_loss: 0.1193 - val_accuracy: 0.9688\n",
      "Epoch 70/150\n",
      "100/100 [==============================] - 5s 49ms/step - loss: 0.0187 - accuracy: 0.9931 - val_loss: 0.0618 - val_accuracy: 0.9896\n",
      "Epoch 71/150\n",
      "100/100 [==============================] - 5s 49ms/step - loss: 0.0235 - accuracy: 0.9937 - val_loss: 0.0705 - val_accuracy: 0.9844\n",
      "Epoch 72/150\n",
      "100/100 [==============================] - 5s 49ms/step - loss: 0.0142 - accuracy: 0.9956 - val_loss: 0.0402 - val_accuracy: 0.9792\n",
      "Epoch 73/150\n",
      "100/100 [==============================] - 5s 49ms/step - loss: 0.0094 - accuracy: 0.9969 - val_loss: 0.0726 - val_accuracy: 0.9792\n",
      "Epoch 74/150\n",
      "100/100 [==============================] - 5s 49ms/step - loss: 0.0078 - accuracy: 0.9956 - val_loss: 0.0571 - val_accuracy: 0.9896\n",
      "Epoch 75/150\n",
      "100/100 [==============================] - 5s 50ms/step - loss: 0.0023 - accuracy: 1.0000 - val_loss: 0.0584 - val_accuracy: 0.9792\n",
      "Epoch 76/150\n",
      "100/100 [==============================] - 5s 50ms/step - loss: 0.0101 - accuracy: 0.9962 - val_loss: 0.0803 - val_accuracy: 0.9688\n",
      "Epoch 77/150\n",
      "100/100 [==============================] - 5s 50ms/step - loss: 0.0103 - accuracy: 0.9969 - val_loss: 0.0439 - val_accuracy: 0.9792\n",
      "Epoch 78/150\n",
      "100/100 [==============================] - 5s 50ms/step - loss: 0.0111 - accuracy: 0.9950 - val_loss: 0.0548 - val_accuracy: 0.9792\n",
      "Epoch 79/150\n",
      "100/100 [==============================] - 5s 51ms/step - loss: 0.0318 - accuracy: 0.9912 - val_loss: 0.0898 - val_accuracy: 0.9844\n",
      "Epoch 80/150\n",
      "100/100 [==============================] - 5s 51ms/step - loss: 0.0276 - accuracy: 0.9912 - val_loss: 0.0673 - val_accuracy: 0.9792\n",
      "Epoch 81/150\n",
      "100/100 [==============================] - 5s 50ms/step - loss: 0.0188 - accuracy: 0.9919 - val_loss: 0.0487 - val_accuracy: 0.9896\n",
      "Epoch 82/150\n",
      "100/100 [==============================] - 5s 50ms/step - loss: 0.0121 - accuracy: 0.9956 - val_loss: 0.0503 - val_accuracy: 0.9844\n",
      "Epoch 83/150\n",
      "100/100 [==============================] - 5s 51ms/step - loss: 0.0095 - accuracy: 0.9969 - val_loss: 0.0343 - val_accuracy: 0.9896\n",
      "Epoch 84/150\n",
      "100/100 [==============================] - 5s 50ms/step - loss: 0.0212 - accuracy: 0.9925 - val_loss: 0.0393 - val_accuracy: 0.9896\n",
      "Epoch 85/150\n",
      "100/100 [==============================] - 5s 51ms/step - loss: 0.0141 - accuracy: 0.9944 - val_loss: 0.0334 - val_accuracy: 0.9792\n",
      "Epoch 86/150\n",
      "100/100 [==============================] - 5s 51ms/step - loss: 0.0165 - accuracy: 0.9962 - val_loss: 0.0601 - val_accuracy: 0.9896\n",
      "Epoch 87/150\n",
      "100/100 [==============================] - 5s 50ms/step - loss: 0.0150 - accuracy: 0.9937 - val_loss: 0.0216 - val_accuracy: 0.9896\n",
      "Epoch 88/150\n",
      "100/100 [==============================] - 5s 51ms/step - loss: 0.0150 - accuracy: 0.9937 - val_loss: 0.0849 - val_accuracy: 0.9792\n",
      "Epoch 89/150\n",
      "100/100 [==============================] - 5s 51ms/step - loss: 0.0180 - accuracy: 0.9950 - val_loss: 0.0489 - val_accuracy: 0.9948\n",
      "Epoch 90/150\n",
      "100/100 [==============================] - 5s 51ms/step - loss: 0.0026 - accuracy: 0.9994 - val_loss: 0.0432 - val_accuracy: 0.9948\n",
      "Epoch 91/150\n",
      "100/100 [==============================] - 5s 50ms/step - loss: 0.0072 - accuracy: 0.9969 - val_loss: 0.0456 - val_accuracy: 0.9896\n",
      "Epoch 92/150\n",
      "100/100 [==============================] - 5s 52ms/step - loss: 0.0162 - accuracy: 0.9937 - val_loss: 0.0549 - val_accuracy: 0.9896\n",
      "Epoch 93/150\n",
      "100/100 [==============================] - 5s 53ms/step - loss: 0.0298 - accuracy: 0.9912 - val_loss: 0.0501 - val_accuracy: 0.9896\n",
      "Epoch 94/150\n",
      "100/100 [==============================] - 5s 54ms/step - loss: 0.0190 - accuracy: 0.9937 - val_loss: 0.0312 - val_accuracy: 0.9844\n",
      "Epoch 95/150\n",
      "100/100 [==============================] - 5s 52ms/step - loss: 0.0294 - accuracy: 0.9912 - val_loss: 0.0317 - val_accuracy: 0.9896\n",
      "Epoch 96/150\n",
      "100/100 [==============================] - 6s 57ms/step - loss: 0.0043 - accuracy: 0.9987 - val_loss: 0.0217 - val_accuracy: 0.9896\n",
      "Epoch 97/150\n",
      "100/100 [==============================] - 5s 51ms/step - loss: 0.0029 - accuracy: 0.9994 - val_loss: 0.0291 - val_accuracy: 0.9948\n",
      "Epoch 98/150\n",
      "100/100 [==============================] - 5s 50ms/step - loss: 0.0041 - accuracy: 0.9981 - val_loss: 0.0309 - val_accuracy: 0.9896\n",
      "Epoch 99/150\n",
      "100/100 [==============================] - 5s 50ms/step - loss: 0.0070 - accuracy: 0.9981 - val_loss: 0.0292 - val_accuracy: 0.9896\n",
      "Epoch 100/150\n",
      "100/100 [==============================] - 5s 51ms/step - loss: 0.0080 - accuracy: 0.9975 - val_loss: 0.0271 - val_accuracy: 0.9896\n",
      "Epoch 101/150\n",
      "100/100 [==============================] - 5s 50ms/step - loss: 0.0019 - accuracy: 0.9987 - val_loss: 0.0240 - val_accuracy: 0.9896\n",
      "Epoch 102/150\n",
      "100/100 [==============================] - 5s 53ms/step - loss: 0.0023 - accuracy: 0.9994 - val_loss: 0.0750 - val_accuracy: 0.9844\n",
      "Epoch 103/150\n",
      "100/100 [==============================] - 5s 53ms/step - loss: 0.0033 - accuracy: 0.9994 - val_loss: 0.1311 - val_accuracy: 0.9740\n",
      "Epoch 104/150\n",
      "100/100 [==============================] - 5s 52ms/step - loss: 0.0383 - accuracy: 0.9887 - val_loss: 0.0066 - val_accuracy: 1.0000\n",
      "Epoch 105/150\n",
      "100/100 [==============================] - 5s 53ms/step - loss: 0.0025 - accuracy: 0.9994 - val_loss: 0.0218 - val_accuracy: 0.9844\n",
      "Epoch 106/150\n",
      "100/100 [==============================] - 5s 54ms/step - loss: 0.0118 - accuracy: 0.9944 - val_loss: 0.0111 - val_accuracy: 1.0000\n",
      "Epoch 107/150\n",
      "100/100 [==============================] - 5s 55ms/step - loss: 0.0076 - accuracy: 0.9962 - val_loss: 0.0089 - val_accuracy: 1.0000\n",
      "Epoch 108/150\n",
      "100/100 [==============================] - 5s 54ms/step - loss: 0.0095 - accuracy: 0.9969 - val_loss: 0.0202 - val_accuracy: 0.9896\n",
      "Epoch 109/150\n",
      "100/100 [==============================] - 6s 56ms/step - loss: 0.0043 - accuracy: 0.9987 - val_loss: 0.0295 - val_accuracy: 0.9896\n",
      "Epoch 110/150\n",
      "100/100 [==============================] - 5s 54ms/step - loss: 0.0064 - accuracy: 0.9975 - val_loss: 0.0254 - val_accuracy: 0.9792\n",
      "Epoch 111/150\n",
      "100/100 [==============================] - 5s 55ms/step - loss: 0.0033 - accuracy: 0.9994 - val_loss: 0.0240 - val_accuracy: 0.9844\n",
      "Epoch 112/150\n",
      "100/100 [==============================] - 5s 55ms/step - loss: 0.0144 - accuracy: 0.9956 - val_loss: 0.0128 - val_accuracy: 0.9948\n",
      "Epoch 113/150\n"
     ]
    },
    {
     "name": "stdout",
     "output_type": "stream",
     "text": [
      "100/100 [==============================] - 6s 55ms/step - loss: 0.0166 - accuracy: 0.9950 - val_loss: 0.0484 - val_accuracy: 0.9740\n",
      "Epoch 114/150\n",
      "100/100 [==============================] - 5s 53ms/step - loss: 0.0204 - accuracy: 0.9950 - val_loss: 0.0365 - val_accuracy: 0.9844\n",
      "Epoch 115/150\n",
      "100/100 [==============================] - 5s 54ms/step - loss: 0.0135 - accuracy: 0.9962 - val_loss: 0.0317 - val_accuracy: 0.9740\n",
      "Epoch 116/150\n",
      "100/100 [==============================] - 5s 54ms/step - loss: 0.0076 - accuracy: 0.9975 - val_loss: 0.0212 - val_accuracy: 0.9896\n",
      "Epoch 117/150\n",
      "100/100 [==============================] - 6s 55ms/step - loss: 0.0168 - accuracy: 0.9956 - val_loss: 0.0341 - val_accuracy: 0.9896\n",
      "Epoch 118/150\n",
      "100/100 [==============================] - 6s 55ms/step - loss: 0.0124 - accuracy: 0.9969 - val_loss: 0.0263 - val_accuracy: 0.9844\n",
      "Epoch 119/150\n",
      "100/100 [==============================] - 6s 57ms/step - loss: 0.0184 - accuracy: 0.9937 - val_loss: 0.0379 - val_accuracy: 0.9792\n",
      "Epoch 120/150\n",
      "100/100 [==============================] - 5s 51ms/step - loss: 0.0051 - accuracy: 0.9975 - val_loss: 0.0310 - val_accuracy: 0.9844\n",
      "Epoch 121/150\n",
      "100/100 [==============================] - 6s 55ms/step - loss: 0.0139 - accuracy: 0.9962 - val_loss: 0.0289 - val_accuracy: 0.9844\n",
      "Epoch 122/150\n",
      "100/100 [==============================] - 6s 57ms/step - loss: 0.0170 - accuracy: 0.9944 - val_loss: 0.0201 - val_accuracy: 0.9896\n",
      "Epoch 123/150\n",
      "100/100 [==============================] - 5s 55ms/step - loss: 0.0087 - accuracy: 0.9981 - val_loss: 0.0650 - val_accuracy: 0.9844\n",
      "Epoch 124/150\n",
      "100/100 [==============================] - 6s 56ms/step - loss: 0.0033 - accuracy: 0.9987 - val_loss: 0.0210 - val_accuracy: 0.9948\n",
      "Epoch 125/150\n",
      "100/100 [==============================] - 6s 55ms/step - loss: 7.1636e-04 - accuracy: 1.0000 - val_loss: 0.0308 - val_accuracy: 0.9844\n",
      "Epoch 126/150\n",
      "100/100 [==============================] - 6s 56ms/step - loss: 0.0038 - accuracy: 0.9987 - val_loss: 0.0290 - val_accuracy: 0.9896\n",
      "Epoch 127/150\n",
      "100/100 [==============================] - 6s 57ms/step - loss: 0.0031 - accuracy: 0.9981 - val_loss: 0.0431 - val_accuracy: 0.9792\n",
      "Epoch 128/150\n",
      "100/100 [==============================] - 6s 57ms/step - loss: 0.0248 - accuracy: 0.9937 - val_loss: 0.0481 - val_accuracy: 0.9844\n",
      "Epoch 129/150\n",
      "100/100 [==============================] - 6s 57ms/step - loss: 0.0069 - accuracy: 0.9975 - val_loss: 0.0256 - val_accuracy: 0.9896\n",
      "Epoch 130/150\n",
      "100/100 [==============================] - 6s 57ms/step - loss: 0.0104 - accuracy: 0.9969 - val_loss: 0.0189 - val_accuracy: 0.9948\n",
      "Epoch 131/150\n",
      "100/100 [==============================] - 6s 57ms/step - loss: 0.0161 - accuracy: 0.9962 - val_loss: 0.0312 - val_accuracy: 0.9844\n",
      "Epoch 132/150\n",
      "100/100 [==============================] - 6s 57ms/step - loss: 0.0051 - accuracy: 0.9962 - val_loss: 0.0365 - val_accuracy: 0.9792\n",
      "Epoch 133/150\n",
      "100/100 [==============================] - 6s 57ms/step - loss: 0.0033 - accuracy: 0.9994 - val_loss: 0.0318 - val_accuracy: 0.9844\n",
      "Epoch 134/150\n",
      "100/100 [==============================] - 6s 57ms/step - loss: 7.5845e-04 - accuracy: 1.0000 - val_loss: 0.0236 - val_accuracy: 0.9896\n",
      "Epoch 135/150\n",
      "100/100 [==============================] - 6s 58ms/step - loss: 0.0122 - accuracy: 0.9962 - val_loss: 0.0984 - val_accuracy: 0.9740\n",
      "Epoch 136/150\n",
      "100/100 [==============================] - 6s 57ms/step - loss: 0.0143 - accuracy: 0.9956 - val_loss: 0.0580 - val_accuracy: 0.9740\n",
      "Epoch 137/150\n",
      "100/100 [==============================] - 6s 57ms/step - loss: 0.0130 - accuracy: 0.9962 - val_loss: 0.0494 - val_accuracy: 0.9792\n",
      "Epoch 138/150\n",
      "100/100 [==============================] - 6s 60ms/step - loss: 0.0122 - accuracy: 0.9956 - val_loss: 0.0578 - val_accuracy: 0.9844\n",
      "Epoch 139/150\n",
      "100/100 [==============================] - 6s 58ms/step - loss: 0.0089 - accuracy: 0.9956 - val_loss: 0.1781 - val_accuracy: 0.9792\n",
      "Epoch 140/150\n",
      "100/100 [==============================] - 6s 58ms/step - loss: 0.0310 - accuracy: 0.9937 - val_loss: 0.0295 - val_accuracy: 0.9948\n",
      "Epoch 141/150\n",
      "100/100 [==============================] - 6s 58ms/step - loss: 0.0056 - accuracy: 0.9975 - val_loss: 0.0376 - val_accuracy: 0.9844\n",
      "Epoch 142/150\n",
      "100/100 [==============================] - 6s 59ms/step - loss: 0.0040 - accuracy: 0.9981 - val_loss: 0.0597 - val_accuracy: 0.9896\n",
      "Epoch 143/150\n",
      "100/100 [==============================] - 6s 58ms/step - loss: 0.0059 - accuracy: 0.9975 - val_loss: 0.0595 - val_accuracy: 0.9896\n",
      "Epoch 144/150\n",
      "100/100 [==============================] - 6s 58ms/step - loss: 0.0041 - accuracy: 0.9981 - val_loss: 0.0900 - val_accuracy: 0.9792\n",
      "Epoch 145/150\n",
      "100/100 [==============================] - 6s 58ms/step - loss: 0.0024 - accuracy: 0.9987 - val_loss: 0.0774 - val_accuracy: 0.9844\n",
      "Epoch 146/150\n",
      "100/100 [==============================] - 6s 59ms/step - loss: 0.0044 - accuracy: 0.9987 - val_loss: 0.0765 - val_accuracy: 0.9792\n",
      "Epoch 147/150\n",
      "100/100 [==============================] - 6s 61ms/step - loss: 0.0139 - accuracy: 0.9956 - val_loss: 0.0698 - val_accuracy: 0.9896\n",
      "Epoch 148/150\n",
      "100/100 [==============================] - 6s 61ms/step - loss: 0.0190 - accuracy: 0.9950 - val_loss: 0.0497 - val_accuracy: 0.9948\n",
      "Epoch 149/150\n",
      "100/100 [==============================] - 6s 61ms/step - loss: 0.0206 - accuracy: 0.9944 - val_loss: 0.1248 - val_accuracy: 0.9844\n",
      "Epoch 150/150\n",
      "100/100 [==============================] - 6s 61ms/step - loss: 0.0065 - accuracy: 0.9981 - val_loss: 0.0789 - val_accuracy: 0.9844\n"
     ]
    }
   ],
   "source": [
    "result = model.fit_generator(train_img_gen, validation_data= validate_img_gen, validation_steps= 12,\n",
    "                             epochs= 150, steps_per_epoch=100)"
   ]
  },
  {
   "cell_type": "code",
   "execution_count": null,
   "metadata": {},
   "outputs": [],
   "source": []
  },
  {
   "cell_type": "code",
   "execution_count": 23,
   "metadata": {},
   "outputs": [],
   "source": [
    "from tensorflow.keras.models import Sequential, load_model\n",
    "model_json = model.to_json()\n",
    "\n",
    "with open(\"mnist.json\", \"w\") as json_file:\n",
    "    json_file.write(model_json)\n",
    "    \n",
    "model.save_weights(\"mnist.h5\")"
   ]
  },
  {
   "cell_type": "code",
   "execution_count": 24,
   "metadata": {},
   "outputs": [
    {
     "name": "stdout",
     "output_type": "stream",
     "text": [
      "(28, 28)\n",
      "(1, 28, 28, 1)\n"
     ]
    }
   ],
   "source": [
    "import cv2\n",
    "import numpy as np\n",
    "a = cv2.imread('data/mnist_data/mnist_data/testSet/img_66.jpg', 0)\n",
    "a = cv2.resize(a,(28,28))\n",
    "print(a.shape)\n",
    "a = np.expand_dims(a, axis = 0)\n",
    "test_img = np.expand_dims(a, axis = 0)\n",
    "test_img = test_img.transpose(1,2,3,0)/255\n",
    "print(test_img.shape)"
   ]
  },
  {
   "cell_type": "code",
   "execution_count": 25,
   "metadata": {},
   "outputs": [
    {
     "data": {
      "text/plain": [
       "array([0])"
      ]
     },
     "execution_count": 25,
     "metadata": {},
     "output_type": "execute_result"
    }
   ],
   "source": [
    "a = model.predict_classes(test_img)\n",
    "a"
   ]
  },
  {
   "cell_type": "markdown",
   "metadata": {},
   "source": [
    "# Task\n",
    "* Look after YOLO\n",
    "* Train a MNIST Model with highest accuracy using diffetent optimizers and loss fxn, layers\n",
    "* Look after transfer learning\n",
    "* Install PyCharm"
   ]
  },
  {
   "cell_type": "code",
   "execution_count": null,
   "metadata": {},
   "outputs": [],
   "source": []
  }
 ],
 "metadata": {
  "kernelspec": {
   "display_name": "Python 3",
   "language": "python",
   "name": "python3"
  },
  "language_info": {
   "codemirror_mode": {
    "name": "ipython",
    "version": 3
   },
   "file_extension": ".py",
   "mimetype": "text/x-python",
   "name": "python",
   "nbconvert_exporter": "python",
   "pygments_lexer": "ipython3",
   "version": "3.7.4"
  }
 },
 "nbformat": 4,
 "nbformat_minor": 2
}
